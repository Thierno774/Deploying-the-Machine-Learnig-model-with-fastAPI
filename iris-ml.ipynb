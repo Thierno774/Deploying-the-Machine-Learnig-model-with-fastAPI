{
 "cells": [
  {
   "cell_type": "markdown",
   "id": "b8a31db0",
   "metadata": {},
   "source": [
    "# Packages Loading"
   ]
  },
  {
   "cell_type": "code",
   "execution_count": 23,
   "id": "a622c0dd",
   "metadata": {},
   "outputs": [],
   "source": [
    "from sklearn.datasets import load_iris\n",
    "from sklearn.linear_model import LogisticRegression\n",
    "from sklearn.model_selection import train_test_split\n",
    "from sklearn.metrics import accuracy_score\n",
    "import numpy as np \n",
    "from joblib import dump\n"
   ]
  },
  {
   "cell_type": "markdown",
   "id": "5c0abc03",
   "metadata": {},
   "source": [
    "# Chargement les données "
   ]
  },
  {
   "cell_type": "code",
   "execution_count": 10,
   "id": "90fbbbe4",
   "metadata": {},
   "outputs": [
    {
     "data": {
      "text/plain": [
       "dict_keys(['data', 'target', 'frame', 'target_names', 'DESCR', 'feature_names', 'filename', 'data_module'])"
      ]
     },
     "execution_count": 10,
     "metadata": {},
     "output_type": "execute_result"
    }
   ],
   "source": [
    "iris = load_iris()\n",
    "iris.keys()"
   ]
  },
  {
   "cell_type": "code",
   "execution_count": 16,
   "id": "f49e5769",
   "metadata": {},
   "outputs": [
    {
     "name": "stdout",
     "output_type": "stream",
     "text": [
      "[5.1 3.5 1.4 0.2]\n",
      "[0 0 0 0 0]\n"
     ]
    }
   ],
   "source": [
    "# Features and target \n",
    "x = iris.data\n",
    "y = iris.target\n",
    "print(x[0])\n",
    "print(y[0:5])"
   ]
  },
  {
   "cell_type": "markdown",
   "id": "d7f5e6b9",
   "metadata": {},
   "source": [
    "# Train and Test Split"
   ]
  },
  {
   "cell_type": "code",
   "execution_count": 17,
   "id": "34c727b7",
   "metadata": {},
   "outputs": [
    {
     "name": "stdout",
     "output_type": "stream",
     "text": [
      "(120, 4)\n",
      "(120,)\n",
      "(30, 4)\n",
      "(30,)\n"
     ]
    }
   ],
   "source": [
    "seed = 13 \n",
    "x_train, x_test , y_train , y_test = train_test_split(x, y,\n",
    "                                                      test_size=0.2, \n",
    "                                                      random_state=seed)\n",
    "\n",
    "## Show the result\n",
    "print(x_train.shape)\n",
    "print(y_train.shape)\n",
    "print(x_test.shape)\n",
    "print(y_test.shape)"
   ]
  },
  {
   "cell_type": "markdown",
   "id": "71519325",
   "metadata": {},
   "source": [
    "# Logistic Regression Modele"
   ]
  },
  {
   "cell_type": "code",
   "execution_count": 19,
   "id": "01247220",
   "metadata": {},
   "outputs": [
    {
     "data": {
      "text/plain": [
       "LogisticRegression(max_iter=500)"
      ]
     },
     "execution_count": 19,
     "metadata": {},
     "output_type": "execute_result"
    }
   ],
   "source": [
    "# max_iter designe le nombre d'itération maximale, cela permet à l'algorithme de converger vers \n",
    "## une solution optimale \n",
    "logreg = LogisticRegression(multi_class= \"auto\", max_iter=500)\n",
    "## Entrainer le modèle \n",
    "logreg.fit(x_train, y_train)"
   ]
  },
  {
   "cell_type": "markdown",
   "id": "4da55201",
   "metadata": {},
   "source": [
    "# The train score"
   ]
  },
  {
   "cell_type": "code",
   "execution_count": 20,
   "id": "f62bfe46",
   "metadata": {},
   "outputs": [
    {
     "data": {
      "text/plain": [
       "0.975"
      ]
     },
     "execution_count": 20,
     "metadata": {},
     "output_type": "execute_result"
    }
   ],
   "source": [
    "logreg.score(x_train, y_train)"
   ]
  },
  {
   "cell_type": "markdown",
   "id": "15c13bed",
   "metadata": {},
   "source": [
    "# Predictions"
   ]
  },
  {
   "cell_type": "code",
   "execution_count": 22,
   "id": "a18a9041",
   "metadata": {},
   "outputs": [
    {
     "name": "stdout",
     "output_type": "stream",
     "text": [
      "[1 1 0 2 2 0 2 2 0 1 2 1 1 0 2 0 2 2 1 0 1 0 0 2 1 2 0 2 1 2]\n"
     ]
    }
   ],
   "source": [
    "y_pred = logreg.predict(x_test)\n",
    "print(y_pred)"
   ]
  },
  {
   "cell_type": "markdown",
   "id": "e77e30fe",
   "metadata": {},
   "source": [
    "# Score of the test dataset"
   ]
  },
  {
   "cell_type": "code",
   "execution_count": 27,
   "id": "23913c98",
   "metadata": {},
   "outputs": [
    {
     "name": "stdout",
     "output_type": "stream",
     "text": [
      "0.967\n"
     ]
    }
   ],
   "source": [
    "accuracy = round(accuracy_score(y_test, y_pred),3)\n",
    "print(accuracy)"
   ]
  },
  {
   "cell_type": "markdown",
   "id": "3c2d562a",
   "metadata": {},
   "source": [
    "# Save the modele"
   ]
  },
  {
   "cell_type": "code",
   "execution_count": 28,
   "id": "3f7e49a4",
   "metadata": {},
   "outputs": [
    {
     "data": {
      "text/plain": [
       "['logreg.joblib']"
      ]
     },
     "execution_count": 28,
     "metadata": {},
     "output_type": "execute_result"
    }
   ],
   "source": [
    "dump(logreg, \"logreg.joblib\")"
   ]
  }
 ],
 "metadata": {
  "kernelspec": {
   "display_name": "Python 3 (ipykernel)",
   "language": "python",
   "name": "python3"
  },
  "language_info": {
   "codemirror_mode": {
    "name": "ipython",
    "version": 3
   },
   "file_extension": ".py",
   "mimetype": "text/x-python",
   "name": "python",
   "nbconvert_exporter": "python",
   "pygments_lexer": "ipython3",
   "version": "3.9.12"
  }
 },
 "nbformat": 4,
 "nbformat_minor": 5
}
